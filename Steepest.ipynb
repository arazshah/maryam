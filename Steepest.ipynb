{
  "cells": [
    {
      "cell_type": "markdown",
      "metadata": {
        "id": "view-in-github",
        "colab_type": "text"
      },
      "source": [
        "<a href=\"https://colab.research.google.com/github/arazshah/maryam/blob/main/Steepest.ipynb\" target=\"_parent\"><img src=\"https://colab.research.google.com/assets/colab-badge.svg\" alt=\"Open In Colab\"/></a>"
      ]
    },
    {
      "cell_type": "code",
      "execution_count": null,
      "id": "c9d84c99",
      "metadata": {
        "id": "c9d84c99"
      },
      "outputs": [],
      "source": [
        "weight_mat=[[0,4,6,2,4,4],[4,0,4,2,2,8],[6,4,0,2,2,6],[2,2,2,0,6,2],[4,2,2,6,0,10],[4,8,6,2,10,0]]"
      ]
    },
    {
      "cell_type": "code",
      "execution_count": null,
      "id": "38c7e904",
      "metadata": {
        "id": "38c7e904",
        "outputId": "9e0cb1da-c0fd-4174-e398-bc0be2c28b6b"
      },
      "outputs": [
        {
          "data": {
            "text/plain": [
              "[[0, 4, 6, 2, 4, 4],\n",
              " [4, 0, 4, 2, 2, 8],\n",
              " [6, 4, 0, 2, 2, 6],\n",
              " [2, 2, 2, 0, 6, 2],\n",
              " [4, 2, 2, 6, 0, 10],\n",
              " [4, 8, 6, 2, 10, 0]]"
            ]
          },
          "execution_count": 9,
          "metadata": {},
          "output_type": "execute_result"
        }
      ],
      "source": [
        "weight_mat"
      ]
    },
    {
      "cell_type": "code",
      "execution_count": null,
      "id": "b2017a69",
      "metadata": {
        "id": "b2017a69"
      },
      "outputs": [],
      "source": [
        "Distance_mat=[[0,2,1,1,1,2],[2,0,1,3,1,2],[1,2,0,2,2,1],[1,3,2,0,2,1],[1,1,2,2,0,3],[2,2,1,1,3,0]]"
      ]
    },
    {
      "cell_type": "code",
      "execution_count": null,
      "id": "67d14bf2",
      "metadata": {
        "id": "67d14bf2",
        "outputId": "09daa60a-5e43-4fbe-d896-48ed95627ad3"
      },
      "outputs": [
        {
          "data": {
            "text/plain": [
              "[[0, 2, 1, 1, 1, 2],\n",
              " [2, 0, 1, 3, 1, 2],\n",
              " [1, 2, 0, 2, 2, 1],\n",
              " [1, 3, 2, 0, 2, 1],\n",
              " [1, 1, 2, 2, 0, 3],\n",
              " [2, 2, 1, 1, 3, 0]]"
            ]
          },
          "execution_count": 11,
          "metadata": {},
          "output_type": "execute_result"
        }
      ],
      "source": [
        "Distance_mat"
      ]
    },
    {
      "cell_type": "code",
      "execution_count": null,
      "id": "cfada214",
      "metadata": {
        "id": "cfada214"
      },
      "outputs": [],
      "source": [
        "seq_fac=[5,1,4,2,3,6]#114"
      ]
    },
    {
      "cell_type": "code",
      "execution_count": null,
      "id": "0db64879",
      "metadata": {
        "id": "0db64879"
      },
      "outputs": [],
      "source": [
        "def weight(F1,F2,weight_mat):\n",
        "    lenght_mat=len(weight_mat)\n",
        "    if F1>lenght_mat or F2>lenght_mat:\n",
        "        return None\n",
        "    return weight_mat[F1-1][F2-1]"
      ]
    },
    {
      "cell_type": "code",
      "execution_count": null,
      "id": "5e96ba01",
      "metadata": {
        "id": "5e96ba01"
      },
      "outputs": [],
      "source": [
        "def Distance(F1,F2,distance_mat):\n",
        "    lenght_mat=len(distance_mat)\n",
        "    if F1>lenght_mat or F2>lenght_mat:\n",
        "        return None\n",
        "    return distance_mat[F1-1][F2-1]"
      ]
    },
    {
      "cell_type": "code",
      "execution_count": null,
      "id": "e10b698e",
      "metadata": {
        "id": "e10b698e"
      },
      "outputs": [],
      "source": [
        "total_cast_list=[]"
      ]
    },
    {
      "cell_type": "code",
      "execution_count": null,
      "id": "839de8e9",
      "metadata": {
        "id": "839de8e9"
      },
      "outputs": [],
      "source": [
        "total_cast=0"
      ]
    },
    {
      "cell_type": "code",
      "execution_count": null,
      "id": "af22fc65",
      "metadata": {
        "id": "af22fc65",
        "outputId": "bb3ed721-97ad-4776-91d3-6e9d2eb30129"
      },
      "outputs": [
        {
          "name": "stdout",
          "output_type": "stream",
          "text": [
            "5 4\n",
            "5 16\n",
            "5 18\n",
            "5 22\n",
            "5 52\n",
            "1 2\n",
            "1 10\n",
            "1 16\n",
            "1 24\n",
            "4 6\n",
            "4 10\n",
            "4 12\n",
            "2 4\n",
            "2 20\n",
            "3 6\n"
          ]
        }
      ],
      "source": [
        "for index_i,value_i in enumerate(seq_fac):\n",
        "    for index_j,value_j in enumerate(seq_fac):\n",
        "        if index_i<index_j:\n",
        "            dis=Distance(value_i,value_j,Distance_mat)\n",
        "            wei=weight(value_i,value_j,weight_mat)\n",
        "            total_cast+=dis*wei\n",
        "            print(value_i,total_cast)\n",
        "    total_cast_list.append(total_cast)\n",
        "    total_cast=0"
      ]
    },
    {
      "cell_type": "code",
      "execution_count": null,
      "id": "004bf8c2",
      "metadata": {
        "id": "004bf8c2"
      },
      "outputs": [],
      "source": [
        "res_sum=0\n",
        "for i in total_cast_list:\n",
        "    res_sum+=i"
      ]
    },
    {
      "cell_type": "code",
      "execution_count": null,
      "id": "71fac5e9",
      "metadata": {
        "id": "71fac5e9",
        "outputId": "88a0a1d5-8d7e-499f-f1f2-e6659ab6f00c"
      },
      "outputs": [
        {
          "data": {
            "text/plain": [
              "114"
            ]
          },
          "execution_count": 15,
          "metadata": {},
          "output_type": "execute_result"
        }
      ],
      "source": [
        "res_sum"
      ]
    },
    {
      "cell_type": "markdown",
      "id": "55939882",
      "metadata": {
        "id": "55939882"
      },
      "source": [
        "DTCuv = sum(wiu - wiv) [d(a(i),a(u)-d(a(i),a(v)))]-2wuvd(a(u),a(v))\n",
        "DTC61=(w 61-w11)(d61-d11)+ (w62-w12)(d62-d12)+ (w63-w13)(d63-d13)+ (w64-w14)(d64-d14)+ (w65-w15)(d65-d15)+ (w66-w16)(d66-d16)"
      ]
    },
    {
      "cell_type": "code",
      "execution_count": null,
      "id": "97e73450",
      "metadata": {
        "id": "97e73450"
      },
      "outputs": [],
      "source": [
        "def DTC(U,V,weigth_mat,distance_mat):\n",
        "    res_sum=0\n",
        "   \n",
        "    length=len(weight_mat)\n",
        "    for i in range(1,length+1):\n",
        "        Wui=weight(U,i,weigth_mat)\n",
        "        Wvi=weight(V,i,weigth_mat)\n",
        "        Dui=Distance(U,i,distance_mat)\n",
        "        Dvi=Distance(V,i,distance_mat)\n",
        "        print(f'W{U}{i}={Wui}  W{V}{i}={Wvi}  D{U}{i}={Dui}  D{V}{i}={Dvi} U={U} V={U} i={i}')\n",
        "        res_sum+=(Wui-Wvi)*(Dui-Dvi)\n",
        "        print(f'Result Sum={res_sum}')\n",
        "        \n",
        "    Wuv=weight(U,V,weight_mat)\n",
        "    print(f'Weight uv={Wuv}')\n",
        "    Duv=Distance(U,V,distance_mat)\n",
        "    print(f'Distance uv={Duv}')\n",
        "    multi2=2*(Wuv*Duv)\n",
        "    print(f'Multiply={multi2}')\n",
        "    result=res_sum-multi2\n",
        "    return result\n",
        "    "
      ]
    },
    {
      "cell_type": "code",
      "execution_count": null,
      "id": "b1588659",
      "metadata": {
        "id": "b1588659",
        "outputId": "4f243026-f9cf-42f0-ec83-968fd21db2f1"
      },
      "outputs": [
        {
          "name": "stdout",
          "output_type": "stream",
          "text": [
            "W31=6  W61=4  D31=1  D61=2 U=3 V=3 i=1\n",
            "Result Sum=-2\n",
            "W32=4  W62=8  D32=2  D62=2 U=3 V=3 i=2\n",
            "Result Sum=-2\n",
            "W33=0  W63=6  D33=0  D63=1 U=3 V=3 i=3\n",
            "Result Sum=4\n",
            "W34=2  W64=2  D34=2  D64=1 U=3 V=3 i=4\n",
            "Result Sum=4\n",
            "W35=2  W65=10  D35=2  D65=3 U=3 V=3 i=5\n",
            "Result Sum=12\n",
            "W36=6  W66=0  D36=1  D66=0 U=3 V=3 i=6\n",
            "Result Sum=18\n",
            "Weight uv=6\n",
            "Distance uv=1\n",
            "Multiply=12\n"
          ]
        },
        {
          "data": {
            "text/plain": [
              "6"
            ]
          },
          "execution_count": 57,
          "metadata": {},
          "output_type": "execute_result"
        }
      ],
      "source": [
        "DTC(3,6,weight_mat,Distance_mat)"
      ]
    },
    {
      "cell_type": "code",
      "execution_count": null,
      "id": "c962bf48",
      "metadata": {
        "id": "c962bf48"
      },
      "outputs": [],
      "source": [
        "seq_fac.sort(reverse=True)"
      ]
    },
    {
      "cell_type": "code",
      "execution_count": null,
      "id": "c9e0d4b3",
      "metadata": {
        "id": "c9e0d4b3",
        "outputId": "858b7ea5-90f9-4a75-d62f-ce6f638e7869"
      },
      "outputs": [
        {
          "data": {
            "text/plain": [
              "[6, 5, 4, 3, 2, 1]"
            ]
          },
          "execution_count": 52,
          "metadata": {},
          "output_type": "execute_result"
        }
      ],
      "source": [
        "seq_fac"
      ]
    },
    {
      "cell_type": "code",
      "execution_count": null,
      "id": "9ecf7d55",
      "metadata": {
        "id": "9ecf7d55",
        "outputId": "ca3e9ca4-a07a-4021-f5cd-3715ded15b34"
      },
      "outputs": [
        {
          "name": "stdout",
          "output_type": "stream",
          "text": [
            "W11=0  W21=4  D11=0  D21=2 U=1 V=1 i=1\n",
            "Result Sum=8\n",
            "W12=4  W22=0  D12=2  D22=0 U=1 V=1 i=2\n",
            "Result Sum=16\n",
            "W13=6  W23=4  D13=1  D23=1 U=1 V=1 i=3\n",
            "Result Sum=16\n",
            "W14=2  W24=2  D14=1  D24=3 U=1 V=1 i=4\n",
            "Result Sum=16\n",
            "W15=4  W25=2  D15=1  D25=1 U=1 V=1 i=5\n",
            "Result Sum=16\n",
            "W16=4  W26=8  D16=2  D26=2 U=1 V=1 i=6\n",
            "Result Sum=16\n",
            "Weight uv=4\n",
            "Distance uv=2\n",
            "Multiply=16\n",
            "DTC 6,5 = 0\n",
            "W11=0  W31=6  D11=0  D31=1 U=1 V=1 i=1\n",
            "Result Sum=6\n",
            "W12=4  W32=4  D12=2  D32=2 U=1 V=1 i=2\n",
            "Result Sum=6\n",
            "W13=6  W33=0  D13=1  D33=0 U=1 V=1 i=3\n",
            "Result Sum=12\n",
            "W14=2  W34=2  D14=1  D34=2 U=1 V=1 i=4\n",
            "Result Sum=12\n",
            "W15=4  W35=2  D15=1  D35=2 U=1 V=1 i=5\n",
            "Result Sum=10\n",
            "W16=4  W36=6  D16=2  D36=1 U=1 V=1 i=6\n",
            "Result Sum=8\n",
            "Weight uv=6\n",
            "Distance uv=1\n",
            "Multiply=12\n",
            "DTC 6,4 = -4\n",
            "W11=0  W41=2  D11=0  D41=1 U=1 V=1 i=1\n",
            "Result Sum=2\n",
            "W12=4  W42=2  D12=2  D42=3 U=1 V=1 i=2\n",
            "Result Sum=0\n",
            "W13=6  W43=2  D13=1  D43=2 U=1 V=1 i=3\n",
            "Result Sum=-4\n",
            "W14=2  W44=0  D14=1  D44=0 U=1 V=1 i=4\n",
            "Result Sum=-2\n",
            "W15=4  W45=6  D15=1  D45=2 U=1 V=1 i=5\n",
            "Result Sum=0\n",
            "W16=4  W46=2  D16=2  D46=1 U=1 V=1 i=6\n",
            "Result Sum=2\n",
            "Weight uv=2\n",
            "Distance uv=1\n",
            "Multiply=4\n",
            "DTC 6,3 = -2\n",
            "W11=0  W51=4  D11=0  D51=1 U=1 V=1 i=1\n",
            "Result Sum=4\n",
            "W12=4  W52=2  D12=2  D52=1 U=1 V=1 i=2\n",
            "Result Sum=6\n",
            "W13=6  W53=2  D13=1  D53=2 U=1 V=1 i=3\n",
            "Result Sum=2\n",
            "W14=2  W54=6  D14=1  D54=2 U=1 V=1 i=4\n",
            "Result Sum=6\n",
            "W15=4  W55=0  D15=1  D55=0 U=1 V=1 i=5\n",
            "Result Sum=10\n",
            "W16=4  W56=10  D16=2  D56=3 U=1 V=1 i=6\n",
            "Result Sum=16\n",
            "Weight uv=4\n",
            "Distance uv=1\n",
            "Multiply=8\n",
            "DTC 6,2 = 8\n",
            "W11=0  W61=4  D11=0  D61=2 U=1 V=1 i=1\n",
            "Result Sum=8\n",
            "W12=4  W62=8  D12=2  D62=2 U=1 V=1 i=2\n",
            "Result Sum=8\n",
            "W13=6  W63=6  D13=1  D63=1 U=1 V=1 i=3\n",
            "Result Sum=8\n",
            "W14=2  W64=2  D14=1  D64=1 U=1 V=1 i=4\n",
            "Result Sum=8\n",
            "W15=4  W65=10  D15=1  D65=3 U=1 V=1 i=5\n",
            "Result Sum=20\n",
            "W16=4  W66=0  D16=2  D66=0 U=1 V=1 i=6\n",
            "Result Sum=28\n",
            "Weight uv=4\n",
            "Distance uv=2\n",
            "Multiply=16\n",
            "DTC 6,1 = 12\n",
            "W21=4  W31=6  D21=2  D31=1 U=2 V=2 i=1\n",
            "Result Sum=-2\n",
            "W22=0  W32=4  D22=0  D32=2 U=2 V=2 i=2\n",
            "Result Sum=6\n",
            "W23=4  W33=0  D23=1  D33=0 U=2 V=2 i=3\n",
            "Result Sum=10\n",
            "W24=2  W34=2  D24=3  D34=2 U=2 V=2 i=4\n",
            "Result Sum=10\n",
            "W25=2  W35=2  D25=1  D35=2 U=2 V=2 i=5\n",
            "Result Sum=10\n",
            "W26=8  W36=6  D26=2  D36=1 U=2 V=2 i=6\n",
            "Result Sum=12\n",
            "Weight uv=4\n",
            "Distance uv=1\n",
            "Multiply=8\n",
            "DTC 5,4 = 4\n",
            "W21=4  W41=2  D21=2  D41=1 U=2 V=2 i=1\n",
            "Result Sum=2\n",
            "W22=0  W42=2  D22=0  D42=3 U=2 V=2 i=2\n",
            "Result Sum=8\n",
            "W23=4  W43=2  D23=1  D43=2 U=2 V=2 i=3\n",
            "Result Sum=6\n",
            "W24=2  W44=0  D24=3  D44=0 U=2 V=2 i=4\n",
            "Result Sum=12\n",
            "W25=2  W45=6  D25=1  D45=2 U=2 V=2 i=5\n",
            "Result Sum=16\n",
            "W26=8  W46=2  D26=2  D46=1 U=2 V=2 i=6\n",
            "Result Sum=22\n",
            "Weight uv=2\n",
            "Distance uv=3\n",
            "Multiply=12\n",
            "DTC 5,3 = 10\n",
            "W21=4  W51=4  D21=2  D51=1 U=2 V=2 i=1\n",
            "Result Sum=0\n",
            "W22=0  W52=2  D22=0  D52=1 U=2 V=2 i=2\n",
            "Result Sum=2\n",
            "W23=4  W53=2  D23=1  D53=2 U=2 V=2 i=3\n",
            "Result Sum=0\n",
            "W24=2  W54=6  D24=3  D54=2 U=2 V=2 i=4\n",
            "Result Sum=-4\n",
            "W25=2  W55=0  D25=1  D55=0 U=2 V=2 i=5\n",
            "Result Sum=-2\n",
            "W26=8  W56=10  D26=2  D56=3 U=2 V=2 i=6\n",
            "Result Sum=0\n",
            "Weight uv=2\n",
            "Distance uv=1\n",
            "Multiply=4\n",
            "DTC 5,2 = -4\n",
            "W21=4  W61=4  D21=2  D61=2 U=2 V=2 i=1\n",
            "Result Sum=0\n",
            "W22=0  W62=8  D22=0  D62=2 U=2 V=2 i=2\n",
            "Result Sum=16\n",
            "W23=4  W63=6  D23=1  D63=1 U=2 V=2 i=3\n",
            "Result Sum=16\n",
            "W24=2  W64=2  D24=3  D64=1 U=2 V=2 i=4\n",
            "Result Sum=16\n",
            "W25=2  W65=10  D25=1  D65=3 U=2 V=2 i=5\n",
            "Result Sum=32\n",
            "W26=8  W66=0  D26=2  D66=0 U=2 V=2 i=6\n",
            "Result Sum=48\n",
            "Weight uv=8\n",
            "Distance uv=2\n",
            "Multiply=32\n",
            "DTC 5,1 = 16\n",
            "W31=6  W41=2  D31=1  D41=1 U=3 V=3 i=1\n",
            "Result Sum=0\n",
            "W32=4  W42=2  D32=2  D42=3 U=3 V=3 i=2\n",
            "Result Sum=-2\n",
            "W33=0  W43=2  D33=0  D43=2 U=3 V=3 i=3\n",
            "Result Sum=2\n",
            "W34=2  W44=0  D34=2  D44=0 U=3 V=3 i=4\n",
            "Result Sum=6\n",
            "W35=2  W45=6  D35=2  D45=2 U=3 V=3 i=5\n",
            "Result Sum=6\n",
            "W36=6  W46=2  D36=1  D46=1 U=3 V=3 i=6\n",
            "Result Sum=6\n",
            "Weight uv=2\n",
            "Distance uv=2\n",
            "Multiply=8\n",
            "DTC 4,3 = -2\n",
            "W31=6  W51=4  D31=1  D51=1 U=3 V=3 i=1\n",
            "Result Sum=0\n",
            "W32=4  W52=2  D32=2  D52=1 U=3 V=3 i=2\n",
            "Result Sum=2\n",
            "W33=0  W53=2  D33=0  D53=2 U=3 V=3 i=3\n",
            "Result Sum=6\n",
            "W34=2  W54=6  D34=2  D54=2 U=3 V=3 i=4\n",
            "Result Sum=6\n",
            "W35=2  W55=0  D35=2  D55=0 U=3 V=3 i=5\n",
            "Result Sum=10\n",
            "W36=6  W56=10  D36=1  D56=3 U=3 V=3 i=6\n",
            "Result Sum=18\n",
            "Weight uv=2\n",
            "Distance uv=2\n",
            "Multiply=8\n",
            "DTC 4,2 = 10\n",
            "W31=6  W61=4  D31=1  D61=2 U=3 V=3 i=1\n",
            "Result Sum=-2\n",
            "W32=4  W62=8  D32=2  D62=2 U=3 V=3 i=2\n",
            "Result Sum=-2\n",
            "W33=0  W63=6  D33=0  D63=1 U=3 V=3 i=3\n",
            "Result Sum=4\n",
            "W34=2  W64=2  D34=2  D64=1 U=3 V=3 i=4\n",
            "Result Sum=4\n",
            "W35=2  W65=10  D35=2  D65=3 U=3 V=3 i=5\n",
            "Result Sum=12\n",
            "W36=6  W66=0  D36=1  D66=0 U=3 V=3 i=6\n",
            "Result Sum=18\n",
            "Weight uv=6\n",
            "Distance uv=1\n",
            "Multiply=12\n",
            "DTC 4,1 = 6\n",
            "W41=2  W51=4  D41=1  D51=1 U=4 V=4 i=1\n",
            "Result Sum=0\n",
            "W42=2  W52=2  D42=3  D52=1 U=4 V=4 i=2\n",
            "Result Sum=0\n",
            "W43=2  W53=2  D43=2  D53=2 U=4 V=4 i=3\n",
            "Result Sum=0\n",
            "W44=0  W54=6  D44=0  D54=2 U=4 V=4 i=4\n",
            "Result Sum=12\n",
            "W45=6  W55=0  D45=2  D55=0 U=4 V=4 i=5\n",
            "Result Sum=24\n",
            "W46=2  W56=10  D46=1  D56=3 U=4 V=4 i=6\n",
            "Result Sum=40\n",
            "Weight uv=6\n",
            "Distance uv=2\n",
            "Multiply=24\n",
            "DTC 3,2 = 16\n",
            "W41=2  W61=4  D41=1  D61=2 U=4 V=4 i=1\n",
            "Result Sum=2\n",
            "W42=2  W62=8  D42=3  D62=2 U=4 V=4 i=2\n",
            "Result Sum=-4\n",
            "W43=2  W63=6  D43=2  D63=1 U=4 V=4 i=3\n",
            "Result Sum=-8\n",
            "W44=0  W64=2  D44=0  D64=1 U=4 V=4 i=4\n",
            "Result Sum=-6\n",
            "W45=6  W65=10  D45=2  D65=3 U=4 V=4 i=5\n",
            "Result Sum=-2\n",
            "W46=2  W66=0  D46=1  D66=0 U=4 V=4 i=6\n",
            "Result Sum=0\n",
            "Weight uv=2\n",
            "Distance uv=1\n",
            "Multiply=4\n",
            "DTC 3,1 = -4\n",
            "W51=4  W61=4  D51=1  D61=2 U=5 V=5 i=1\n",
            "Result Sum=0\n",
            "W52=2  W62=8  D52=1  D62=2 U=5 V=5 i=2\n",
            "Result Sum=6\n",
            "W53=2  W63=6  D53=2  D63=1 U=5 V=5 i=3\n",
            "Result Sum=2\n",
            "W54=6  W64=2  D54=2  D64=1 U=5 V=5 i=4\n",
            "Result Sum=6\n",
            "W55=0  W65=10  D55=0  D65=3 U=5 V=5 i=5\n",
            "Result Sum=36\n",
            "W56=10  W66=0  D56=3  D66=0 U=5 V=5 i=6\n",
            "Result Sum=66\n",
            "Weight uv=10\n",
            "Distance uv=3\n",
            "Multiply=60\n",
            "DTC 2,1 = 6\n"
          ]
        }
      ],
      "source": [
        "for i,val_i in enumerate(seq_fac):\n",
        "    for j,val_j in enumerate(seq_fac):\n",
        "        if i<j and val_i>val_j:\n",
        "            print(f'DTC {val_i},{val_j} = {DTC(i+1,j+1,weight_mat,Distance_mat)}')"
      ]
    },
    {
      "cell_type": "code",
      "execution_count": null,
      "id": "31d694a1",
      "metadata": {
        "id": "31d694a1",
        "outputId": "f1c0db5b-1596-4a3d-f725-06e73ad6d309"
      },
      "outputs": [
        {
          "data": {
            "text/plain": [
              "[5, 1, 4, 2, 3, 6]"
            ]
          },
          "execution_count": 43,
          "metadata": {},
          "output_type": "execute_result"
        }
      ],
      "source": [
        "seq_fac"
      ]
    },
    {
      "cell_type": "code",
      "execution_count": null,
      "id": "1f26351b",
      "metadata": {
        "id": "1f26351b"
      },
      "outputs": [],
      "source": []
    }
  ],
  "metadata": {
    "kernelspec": {
      "display_name": "Python 3 (ipykernel)",
      "language": "python",
      "name": "python3"
    },
    "language_info": {
      "codemirror_mode": {
        "name": "ipython",
        "version": 3
      },
      "file_extension": ".py",
      "mimetype": "text/x-python",
      "name": "python",
      "nbconvert_exporter": "python",
      "pygments_lexer": "ipython3",
      "version": "3.9.7"
    },
    "colab": {
      "provenance": [],
      "include_colab_link": true
    }
  },
  "nbformat": 4,
  "nbformat_minor": 5
}